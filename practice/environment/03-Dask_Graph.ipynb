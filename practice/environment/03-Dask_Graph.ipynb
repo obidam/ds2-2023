{
 "cells": [
  {
   "cell_type": "markdown",
   "metadata": {},
   "source": [
    "# Dask graph computation\n",
    "\n",
    "Here we illustrate Dask graph for computation, the lazy mode, and parrallelism with distributed"
   ]
  },
  {
   "cell_type": "code",
   "execution_count": 1,
   "metadata": {},
   "outputs": [],
   "source": [
    "import dask.array as da"
   ]
  },
  {
   "cell_type": "markdown",
   "metadata": {},
   "source": [
    "## Graph for chunk of operation"
   ]
  },
  {
   "cell_type": "code",
   "execution_count": 2,
   "metadata": {},
   "outputs": [
    {
     "ename": "RuntimeError",
     "evalue": "No visualization engine detected, please install graphviz or ipycytoscape",
     "output_type": "error",
     "traceback": [
      "\u001B[0;31m---------------------------------------------------------------------------\u001B[0m",
      "\u001B[0;31mRuntimeError\u001B[0m                              Traceback (most recent call last)",
      "Cell \u001B[0;32mIn[2], line 2\u001B[0m\n\u001B[1;32m      1\u001B[0m x \u001B[38;5;241m=\u001B[39m da\u001B[38;5;241m.\u001B[39mones((\u001B[38;5;241m4\u001B[39m, \u001B[38;5;241m1\u001B[39m), chunks\u001B[38;5;241m=\u001B[39m(\u001B[38;5;241m2\u001B[39m, \u001B[38;5;241m1\u001B[39m))\n\u001B[0;32m----> 2\u001B[0m \u001B[43mx\u001B[49m\u001B[38;5;241;43m.\u001B[39;49m\u001B[43mvisualize\u001B[49m\u001B[43m(\u001B[49m\u001B[43m)\u001B[49m\n",
      "File \u001B[0;32m~/miniconda3/envs/ds2/lib/python3.10/site-packages/dask/base.py:241\u001B[0m, in \u001B[0;36mDaskMethodsMixin.visualize\u001B[0;34m(self, filename, format, optimize_graph, **kwargs)\u001B[0m\n\u001B[1;32m    197\u001B[0m \u001B[38;5;28;01mdef\u001B[39;00m \u001B[38;5;21mvisualize\u001B[39m(\u001B[38;5;28mself\u001B[39m, filename\u001B[38;5;241m=\u001B[39m\u001B[38;5;124m\"\u001B[39m\u001B[38;5;124mmydask\u001B[39m\u001B[38;5;124m\"\u001B[39m, \u001B[38;5;28mformat\u001B[39m\u001B[38;5;241m=\u001B[39m\u001B[38;5;28;01mNone\u001B[39;00m, optimize_graph\u001B[38;5;241m=\u001B[39m\u001B[38;5;28;01mFalse\u001B[39;00m, \u001B[38;5;241m*\u001B[39m\u001B[38;5;241m*\u001B[39mkwargs):\n\u001B[1;32m    198\u001B[0m \u001B[38;5;250m    \u001B[39m\u001B[38;5;124;03m\"\"\"Render the computation of this object's task graph using graphviz.\u001B[39;00m\n\u001B[1;32m    199\u001B[0m \n\u001B[1;32m    200\u001B[0m \u001B[38;5;124;03m    Requires ``graphviz`` to be installed.\u001B[39;00m\n\u001B[0;32m   (...)\u001B[0m\n\u001B[1;32m    239\u001B[0m \u001B[38;5;124;03m    https://docs.dask.org/en/latest/optimize.html\u001B[39;00m\n\u001B[1;32m    240\u001B[0m \u001B[38;5;124;03m    \"\"\"\u001B[39;00m\n\u001B[0;32m--> 241\u001B[0m     \u001B[38;5;28;01mreturn\u001B[39;00m \u001B[43mvisualize\u001B[49m\u001B[43m(\u001B[49m\n\u001B[1;32m    242\u001B[0m \u001B[43m        \u001B[49m\u001B[38;5;28;43mself\u001B[39;49m\u001B[43m,\u001B[49m\n\u001B[1;32m    243\u001B[0m \u001B[43m        \u001B[49m\u001B[43mfilename\u001B[49m\u001B[38;5;241;43m=\u001B[39;49m\u001B[43mfilename\u001B[49m\u001B[43m,\u001B[49m\n\u001B[1;32m    244\u001B[0m \u001B[43m        \u001B[49m\u001B[38;5;28;43mformat\u001B[39;49m\u001B[38;5;241;43m=\u001B[39;49m\u001B[38;5;28;43mformat\u001B[39;49m\u001B[43m,\u001B[49m\n\u001B[1;32m    245\u001B[0m \u001B[43m        \u001B[49m\u001B[43moptimize_graph\u001B[49m\u001B[38;5;241;43m=\u001B[39;49m\u001B[43moptimize_graph\u001B[49m\u001B[43m,\u001B[49m\n\u001B[1;32m    246\u001B[0m \u001B[43m        \u001B[49m\u001B[38;5;241;43m*\u001B[39;49m\u001B[38;5;241;43m*\u001B[39;49m\u001B[43mkwargs\u001B[49m\u001B[43m,\u001B[49m\n\u001B[1;32m    247\u001B[0m \u001B[43m    \u001B[49m\u001B[43m)\u001B[49m\n",
      "File \u001B[0;32m~/miniconda3/envs/ds2/lib/python3.10/site-packages/dask/base.py:803\u001B[0m, in \u001B[0;36mvisualize\u001B[0;34m(filename, traverse, optimize_graph, maxval, engine, *args, **kwargs)\u001B[0m\n\u001B[1;32m    801\u001B[0m     \u001B[38;5;28;01mreturn\u001B[39;00m cytoscape_graph(dsk, filename\u001B[38;5;241m=\u001B[39mfilename, \u001B[38;5;241m*\u001B[39m\u001B[38;5;241m*\u001B[39mkwargs)\n\u001B[1;32m    802\u001B[0m \u001B[38;5;28;01melif\u001B[39;00m engine \u001B[38;5;129;01mis\u001B[39;00m \u001B[38;5;28;01mNone\u001B[39;00m:\n\u001B[0;32m--> 803\u001B[0m     \u001B[38;5;28;01mraise\u001B[39;00m \u001B[38;5;167;01mRuntimeError\u001B[39;00m(\n\u001B[1;32m    804\u001B[0m         \u001B[38;5;124m\"\u001B[39m\u001B[38;5;124mNo visualization engine detected, please install graphviz or ipycytoscape\u001B[39m\u001B[38;5;124m\"\u001B[39m\n\u001B[1;32m    805\u001B[0m     )\n\u001B[1;32m    806\u001B[0m \u001B[38;5;28;01melse\u001B[39;00m:\n\u001B[1;32m    807\u001B[0m     \u001B[38;5;28;01mraise\u001B[39;00m \u001B[38;5;167;01mValueError\u001B[39;00m(\u001B[38;5;124mf\u001B[39m\u001B[38;5;124m\"\u001B[39m\u001B[38;5;124mVisualization engine \u001B[39m\u001B[38;5;132;01m{\u001B[39;00mengine\u001B[38;5;132;01m}\u001B[39;00m\u001B[38;5;124m not recognized\u001B[39m\u001B[38;5;124m\"\u001B[39m)\n",
      "\u001B[0;31mRuntimeError\u001B[0m: No visualization engine detected, please install graphviz or ipycytoscape"
     ]
    }
   ],
   "source": [
    "x = da.ones((4, 1), chunks=(2, 1))\n",
    "x.visualize()"
   ]
  },
  {
   "cell_type": "code",
   "execution_count": null,
   "metadata": {},
   "outputs": [],
   "source": [
    "y = 3 - da.ones((4, 1), chunks=(2,1))\n",
    "y.visualize()"
   ]
  },
  {
   "cell_type": "code",
   "execution_count": null,
   "metadata": {},
   "outputs": [],
   "source": [
    "z = x.T * y\n",
    "z.visualize()"
   ]
  },
  {
   "cell_type": "code",
   "execution_count": null,
   "metadata": {},
   "outputs": [],
   "source": [
    "x = da.triu(da.ones((3, 3), chunks=(1, 1)))\n",
    "x.visualize()"
   ]
  },
  {
   "cell_type": "code",
   "execution_count": null,
   "metadata": {},
   "outputs": [],
   "source": [
    "print(\"Compare this print of x:\")\n",
    "print(x)\n",
    "print(\"\\nWith this one:\")\n",
    "print(x.compute())"
   ]
  },
  {
   "cell_type": "code",
   "execution_count": null,
   "metadata": {},
   "outputs": [],
   "source": [
    "x = da.triu(da.ones((4, 4), chunks=(2, 2)))\n",
    "x.visualize()"
   ]
  },
  {
   "cell_type": "markdown",
   "metadata": {},
   "source": [
    "## Graph for lazy operations\n",
    "\n",
    "See here https://github.com/dask/dask-examples/blob/master/delayed.ipynb for more"
   ]
  },
  {
   "cell_type": "code",
   "execution_count": null,
   "metadata": {},
   "outputs": [],
   "source": [
    "# Init dummy functions\n",
    "import time\n",
    "import random\n",
    "\n",
    "def inc(x):\n",
    "    time.sleep(2)\n",
    "    return x + 1\n",
    "\n",
    "def dec(x):\n",
    "    time.sleep(3)\n",
    "    return x - 1\n",
    "    \n",
    "def add(x, y):\n",
    "    time.sleep(1)\n",
    "    return x + y"
   ]
  },
  {
   "cell_type": "code",
   "execution_count": null,
   "metadata": {},
   "outputs": [],
   "source": [
    "%%time\n",
    "# Bench these sequential list of function calls:\n",
    "x = inc(1) # Return 1 + 1 = 2\n",
    "y = dec(2) # Return 2 - 1 = 1\n",
    "z = add(x, y) # Return 2 + 1 = 3\n",
    "print(\"z =\",z,\"\\n\")"
   ]
  },
  {
   "cell_type": "markdown",
   "metadata": {},
   "source": [
    "note that the x and y computations are performed sequentially, hence the 6sec of wall time"
   ]
  },
  {
   "cell_type": "code",
   "execution_count": null,
   "metadata": {},
   "outputs": [],
   "source": [
    "# Make these functions to be \"lazy\", so that they are executed only when needed:\n",
    "import dask\n",
    "inc = dask.delayed(inc)\n",
    "dec = dask.delayed(dec)\n",
    "add = dask.delayed(add)"
   ]
  },
  {
   "cell_type": "code",
   "execution_count": null,
   "metadata": {},
   "outputs": [],
   "source": [
    "%%time\n",
    "# Bench the same sequential list of function calls, but let Dask decide if they should be computed or not (\"lazy\" mode):\n",
    "x = inc(1)\n",
    "y = dec(2)\n",
    "z = add(x, y)\n",
    "print(\"z =\",z,\"\\n\")"
   ]
  },
  {
   "cell_type": "markdown",
   "metadata": {},
   "source": [
    "see:\n",
    "\n",
    "- that `z` is now a `delayed` Dask object, the result (3) is not returned\n",
    "- how the wall time is much shorter, that's because the computation was not performed, only the graph was built"
   ]
  },
  {
   "cell_type": "code",
   "execution_count": null,
   "metadata": {},
   "outputs": [],
   "source": [
    "# This is the graph:\n",
    "z.visualize(rankdir='LR')"
   ]
  },
  {
   "cell_type": "code",
   "execution_count": null,
   "metadata": {},
   "outputs": [],
   "source": [
    "%%time\n",
    "# In order to realy get the computation done, simple call \"compute\":\n",
    "print(\"z =\",z.compute(),\"\\n\")"
   ]
  },
  {
   "cell_type": "markdown",
   "metadata": {},
   "source": [
    "## Lazy operations in parrallel with distributed\n",
    "\n",
    "*This won't work under Google Colab*"
   ]
  },
  {
   "cell_type": "code",
   "execution_count": null,
   "metadata": {},
   "outputs": [],
   "source": [
    "from dask.distributed import Client, progress\n",
    "client = Client(threads_per_worker=4, n_workers=1)\n",
    "client"
   ]
  },
  {
   "cell_type": "code",
   "execution_count": null,
   "metadata": {},
   "outputs": [],
   "source": [
    "%%time\n",
    "print(\"z =\",z.compute(),\"\\n\")"
   ]
  },
  {
   "cell_type": "markdown",
   "metadata": {},
   "source": [
    "Here the point is to look at the Task Stream of the dashboard, which should look like the figure below:\n",
    "\n",
    "We see the parallel ``dec`` (magenta) and ``inc`` (green) calls lasting 3 and 2 secs respectively, followed by the ``add`` (blue) call lasting 1 sec. The total execution time in parallel is about 4 secs.\n",
    "\n",
    "![](https://github.com/obidam/ds2-2023/raw/main/practice/environment/03-Dask_Graph.png)"
   ]
  },
  {
   "cell_type": "code",
   "execution_count": null,
   "metadata": {},
   "outputs": [],
   "source": [
    "client.close()"
   ]
  }
 ],
 "metadata": {
  "kernelspec": {
   "name": "ds2",
   "language": "python",
   "display_name": "ds2"
  },
  "language_info": {
   "codemirror_mode": {
    "name": "ipython",
    "version": 3
   },
   "file_extension": ".py",
   "mimetype": "text/x-python",
   "name": "python",
   "nbconvert_exporter": "python",
   "pygments_lexer": "ipython3",
   "version": "3.8.12"
  },
  "widgets": {
   "application/vnd.jupyter.widget-state+json": {
    "state": {},
    "version_major": 2,
    "version_minor": 0
   }
  }
 },
 "nbformat": 4,
 "nbformat_minor": 4
}
