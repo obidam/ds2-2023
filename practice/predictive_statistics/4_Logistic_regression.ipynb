{
 "cells": [
  {
   "cell_type": "markdown",
   "metadata": {},
   "source": [
    "### Predictive statistics: class example 4, logistic regression\n"
   ]
  },
  {
   "cell_type": "markdown",
   "metadata": {},
   "source": [
    "For our final topic of this session, we will implement logistic regression, again using scikit-learn. We will start by looking at some toy data as before. In a second example, we will use the \"digits\" data set that is often used as a standard machine learning example for handwriting recognition to see how logistic regression can also be used to treat this problem."
   ]
  },
  {
   "cell_type": "markdown",
   "metadata": {},
   "source": [
    "Let's set up the libraries again:"
   ]
  },
  {
   "cell_type": "code",
   "execution_count": 1,
   "metadata": {},
   "outputs": [],
   "source": [
    "# import numpy to generate toy data, and matplotlib to plot it\n",
    "import numpy as np\n",
    "import matplotlib.pyplot as plt\n",
    "# set up matplotlib to show the figures inline\n",
    "plt.ion()\n",
    "%matplotlib inline\n",
    "# import the logistic regression method from scikit-learn\n",
    "from sklearn.linear_model import LogisticRegression"
   ]
  },
  {
   "cell_type": "markdown",
   "metadata": {},
   "source": [
    "#### Example 1: toy data"
   ]
  },
  {
   "cell_type": "markdown",
   "metadata": {},
   "source": [
    "We will create some toy data for our first simple example. We will define our variable y to belong to class 0 for x < 6, and to class 1 for x >= 6:"
   ]
  },
  {
   "cell_type": "code",
   "execution_count": 2,
   "metadata": {},
   "outputs": [
    {
     "data": {
      "text/plain": [
       "Text(0, 0.5, 'y')"
      ]
     },
     "execution_count": 2,
     "metadata": {},
     "output_type": "execute_result"
    },
    {
     "data": {
      "image/png": "[encoded data removed]",
      "text/plain": [
       "<Figure size 432x288 with 1 Axes>"
      ]
     },
     "metadata": {
      "needs_background": "light"
     },
     "output_type": "display_data"
    }
   ],
   "source": [
    "# define x\n",
    "x = np.arange(0,12)\n",
    "# define y, which can take values of 0 or 1 for the two \"output\" classes\n",
    "y = np.zeros(np.shape(x))\n",
    "y[x >= 6] = 1\n",
    "# and let's plot our data:\n",
    "plt.figure()\n",
    "plt.plot(x,y,'ko')\n",
    "plt.grid()\n",
    "plt.xlabel('x')\n",
    "plt.ylabel('y')"
   ]
  },
  {
   "cell_type": "markdown",
   "metadata": {},
   "source": [
    "There are no \"noisy\" points (where x < 6, but y = 1) in this toy data set. We will try changing this afterwards to make the problem more realistic.\n",
    "\n",
    "Let's implement the logistic regression:"
   ]
  },
  {
   "cell_type": "code",
   "execution_count": 3,
   "metadata": {},
   "outputs": [
    {
     "data": {
      "text/plain": [
       "LogisticRegression()"
      ]
     },
     "execution_count": 3,
     "metadata": {},
     "output_type": "execute_result"
    }
   ],
   "source": [
    "# create the logistic regression model using default options\n",
    "model = LogisticRegression()\n",
    "# and fit the model to our data\n",
    "model.fit(x[:,None], y)"
   ]
  },
  {
   "cell_type": "markdown",
   "metadata": {},
   "source": [
    "Now we can get the outputs:"
   ]
  },
  {
   "cell_type": "code",
   "execution_count": 4,
   "metadata": {},
   "outputs": [],
   "source": [
    "# the probability that each point belongs to each class:\n",
    "p_pred = model.predict_proba(x[:,None])\n",
    "# the predicted value of y (=> the predicted output class):\n",
    "y_pred = model.predict(x[:,None])\n",
    "# the accuracy of the model (a measure of how many points are \n",
    "# assigned to the wrong output class):\n",
    "score_ = model.score(x[:,None], y)"
   ]
  },
  {
   "cell_type": "markdown",
   "metadata": {},
   "source": [
    "Let's look at the values:"
   ]
  },
  {
   "cell_type": "code",
   "execution_count": 5,
   "metadata": {},
   "outputs": [
    {
     "name": "stdout",
     "output_type": "stream",
     "text": [
      "[[0.99857713 0.00142287]\n",
      " [0.99533076 0.00466924]\n",
      " [0.98479046 0.01520954]\n",
      " [0.95161326 0.04838674]\n",
      " [0.85660327 0.14339673]\n",
      " [0.64469175 0.35530825]\n",
      " [0.35530826 0.64469174]\n",
      " [0.14339674 0.85660326]\n",
      " [0.04838674 0.95161326]\n",
      " [0.01520954 0.98479046]\n",
      " [0.00466924 0.99533076]\n",
      " [0.00142287 0.99857713]]\n"
     ]
    }
   ],
   "source": [
    "print(p_pred)"
   ]
  },
  {
   "cell_type": "markdown",
   "metadata": {},
   "source": [
    "Here we have a matrix with shape (2,12) -> we have 2 output classes, and 12 input data points. The matrix gives us the probability that each input data point is in each of the 2 output classes. You can see that the sum for each row = 1 : we have 2 class options, so the total probability must be distributed over these 2 options.\n",
    "\n",
    "```y_pred``` tells us which class was assigned by the model for each of our input data points. The matrix will have the same shape as ```y```:"
   ]
  },
  {
   "cell_type": "code",
   "execution_count": 6,
   "metadata": {},
   "outputs": [
    {
     "name": "stdout",
     "output_type": "stream",
     "text": [
      "[0. 0. 0. 0. 0. 0. 1. 1. 1. 1. 1. 1.]\n"
     ]
    }
   ],
   "source": [
    "print(y_pred)"
   ]
  },
  {
   "cell_type": "markdown",
   "metadata": {},
   "source": [
    "And finally the score tells us how accurate the model is. The metric used here is: number of correct predictions / number of input data points:"
   ]
  },
  {
   "cell_type": "code",
   "execution_count": 7,
   "metadata": {},
   "outputs": [
    {
     "name": "stdout",
     "output_type": "stream",
     "text": [
      "1.0\n"
     ]
    }
   ],
   "source": [
    "print(score_)"
   ]
  },
  {
   "cell_type": "markdown",
   "metadata": {},
   "source": [
    "Our example was very simple, with no anomalous points, and the model has correctly assigned all of the classes, so the score is 1. \n",
    "\n",
    "Let's plot the original data and the predictions to finish:"
   ]
  },
  {
   "cell_type": "code",
   "execution_count": 9,
   "metadata": {},
   "outputs": [
    {
     "data": {
      "image/png": "[encoded data removed]",
      "text/plain": [
       "<Figure size 432x288 with 1 Axes>"
      ]
     },
     "metadata": {
      "needs_background": "light"
     },
     "output_type": "display_data"
    }
   ],
   "source": [
    "plt.figure()\n",
    "plt.plot(x,y,'ko',label='Input data')\n",
    "plt.plot(x,y_pred,'c.',label='Predicted class')\n",
    "plt.grid()\n",
    "plt.xlabel('x')\n",
    "plt.ylabel('y')\n",
    "plt.legend();"
   ]
  },
  {
   "cell_type": "markdown",
   "metadata": {},
   "source": [
    "Now let's try repeating the example but with some noisy points:"
   ]
  },
  {
   "cell_type": "code",
   "execution_count": 10,
   "metadata": {},
   "outputs": [
    {
     "name": "stdout",
     "output_type": "stream",
     "text": [
      "We will change the class of points: [1, 8, 5]\n"
     ]
    },
    {
     "data": {
      "image/png": "[encoded data removed]",
      "text/plain": [
       "<Figure size 432x288 with 1 Axes>"
      ]
     },
     "metadata": {
      "needs_background": "light"
     },
     "output_type": "display_data"
    }
   ],
   "source": [
    "# define x\n",
    "x = np.arange(0,12)\n",
    "# define y, which can take values of 0 or 1 for the two \"output\" classes\n",
    "y = np.zeros(np.shape(x))\n",
    "y[x >= 6] = 1\n",
    "# add some noise: we'll choose 3 points at random and change their sign\n",
    "import random\n",
    "i = random.sample(range(0,12),3)\n",
    "print('We will change the class of points: {}'.format(i))\n",
    "for ii in i:\n",
    "    if y[ii] == 0:\n",
    "        y[ii]=1\n",
    "    else:\n",
    "        y[ii]=0\n",
    "\n",
    "# and let's plot our data:\n",
    "plt.figure()\n",
    "plt.plot(x,y,'ko')\n",
    "plt.grid()\n",
    "plt.xlabel('x')\n",
    "plt.ylabel('y');"
   ]
  },
  {
   "cell_type": "markdown",
   "metadata": {},
   "source": [
    "Below, you can reimplement the logistic regression following the example above. Does the regression still find the right cutoff value of x for class 0 / class 1? How does the score change?"
   ]
  },
  {
   "cell_type": "code",
   "execution_count": null,
   "metadata": {},
   "outputs": [],
   "source": [
    "# enter your code here"
   ]
  },
  {
   "cell_type": "markdown",
   "metadata": {},
   "source": [
    "Finally, we can easily adapt our example to use multiple predictors. Let's use an example where ```y = 1``` if ```x1 - x2 < 12```. We'll add some noise as well."
   ]
  },
  {
   "cell_type": "code",
   "execution_count": 15,
   "metadata": {},
   "outputs": [
    {
     "name": "stdout",
     "output_type": "stream",
     "text": [
      "We will change the class of points: [(1, -5), (4, -9), (2, -4), (5, -8), (9, -6), (7, -1), (0, -2), (8, -10)]\n"
     ]
    },
    {
     "data": {
      "image/png": "[encoded data removed]",
      "text/plain": [
       "<Figure size 432x288 with 1 Axes>"
      ]
     },
     "metadata": {
      "needs_background": "light"
     },
     "output_type": "display_data"
    }
   ],
   "source": [
    "# define x1 (predictor 1)\n",
    "x1_1D = np.arange(0,12)\n",
    "# define x2\n",
    "x2_1D = np.arange(-10,2)\n",
    "# make a 2D array:\n",
    "(x1,x2)=np.meshgrid(x1_1D,x2_1D)\n",
    "\n",
    "# define y, which can take values of 0 or 1 for the two \"output\" classes\n",
    "y = np.zeros_like(x1)\n",
    "y[(x1 - x2 < 12)] = 1\n",
    "# add some noise: we'll choose 8 points at random and change their sign\n",
    "import random\n",
    "ix = random.sample(range(0,12),8)\n",
    "iy = random.sample(range(0,12),8)\n",
    "print('We will change the class of points: {}'.format(list(zip(x1_1D[iy],x2_1D[ix]))))\n",
    "for ii in zip(ix,iy):\n",
    "    if y[ii] == 0:\n",
    "        y[ii]=1\n",
    "    else:\n",
    "        y[ii]=0\n",
    "        \n",
    "# and plot the data:\n",
    "plt.figure()\n",
    "plt.plot(x1[y==0],x2[y==0],'r^',label='Class 0')\n",
    "plt.plot(x1[y==1],x2[y==1],'bs',label='Class 1')\n",
    "plt.grid()\n",
    "plt.xlabel('x1')\n",
    "plt.ylabel('x2')\n",
    "plt.legend();"
   ]
  },
  {
   "cell_type": "markdown",
   "metadata": {},
   "source": [
    "To perform the logistic regression with multiple inputs, we just need to create an input matrix that contains all of our predictors, as for the linear regression:"
   ]
  },
  {
   "cell_type": "code",
   "execution_count": 16,
   "metadata": {},
   "outputs": [
    {
     "data": {
      "text/plain": [
       "LogisticRegression()"
      ]
     },
     "execution_count": 16,
     "metadata": {},
     "output_type": "execute_result"
    }
   ],
   "source": [
    "# x1, x2 and y are 2D vectors at the moment, so we will reshape them into 1D arrays,\n",
    "# and then combine x1 and x2 into a single input vector:\n",
    "x1r = np.ravel(x1) #1D vector for x1\n",
    "x2r = np.ravel(x2) #1D vector for x2\n",
    "yr = np.ravel(y) #1D vector for y\n",
    "X = np.vstack((x1r,x2r)).T # X contains x1 and x2\n",
    "\n",
    "# set up the model:\n",
    "model = LogisticRegression()\n",
    "# and fit the model to our data\n",
    "model.fit(X, yr)"
   ]
  },
  {
   "cell_type": "markdown",
   "metadata": {},
   "source": [
    "We can make predictions the same way as before. You can try below:"
   ]
  },
  {
   "cell_type": "code",
   "execution_count": null,
   "metadata": {},
   "outputs": [],
   "source": [
    "# enter your code here"
   ]
  },
  {
   "cell_type": "markdown",
   "metadata": {},
   "source": [
    "#### Example 2: the digits data set"
   ]
  },
  {
   "cell_type": "markdown",
   "metadata": {},
   "source": [
    "To look at a more complicated example, we can apply this method to the digits data set. This is a set of images of handwritten numbers that have been labelled already. A \"classic\" machine learning test is to try to correctly identify these numbers. We will do this here using logistic regression. The data set can be loaded directly using scikit-learn:"
   ]
  },
  {
   "cell_type": "code",
   "execution_count": 17,
   "metadata": {},
   "outputs": [],
   "source": [
    "from sklearn.datasets import load_digits\n",
    "digits = load_digits()"
   ]
  },
  {
   "cell_type": "markdown",
   "metadata": {},
   "source": [
    "The data set comprises a series of 8 pixel x 8 pixel images (each represented by a matrix of size (8,8)), and a corresponding label for each image:"
   ]
  },
  {
   "cell_type": "code",
   "execution_count": 18,
   "metadata": {},
   "outputs": [
    {
     "name": "stdout",
     "output_type": "stream",
     "text": [
      "Image data array size: (1797, 64)\n",
      "Class information array size: (1797,)\n",
      "Possible class values: [0 1 2 3 4 5 6 7 8 9]\n"
     ]
    }
   ],
   "source": [
    "# print the data set sizes:\n",
    "print('Image data array size: {}'.format(digits.data.shape))\n",
    "print('Class information array size: {}'.format(digits.target.shape))\n",
    "print('Possible class values: {}'.format(np.unique(digits.target)))"
   ]
  },
  {
   "cell_type": "markdown",
   "metadata": {},
   "source": [
    "In the examples with the toy data, we had 2 output classes. Here, we can see that we will need 9. Let's look at an example of the image data that will form our X array:"
   ]
  },
  {
   "cell_type": "code",
   "execution_count": 19,
   "metadata": {},
   "outputs": [
    {
     "data": {
      "text/plain": [
       "<matplotlib.colorbar.Colorbar at 0x7ff254d8b6a0>"
      ]
     },
     "execution_count": 19,
     "metadata": {},
     "output_type": "execute_result"
    },
    {
     "data": {
      "image/png": "[encoded data removed]",
      "text/plain": [
       "<Figure size 432x288 with 2 Axes>"
      ]
     },
     "metadata": {
      "needs_background": "light"
     },
     "output_type": "display_data"
    }
   ],
   "source": [
    "# select the first image and reshape it:\n",
    "x0 = np.reshape(digits.data[0,:],(8,8))\n",
    "# select the corresponding class label\n",
    "y0 = digits.target[0]\n",
    "\n",
    "# plot the data\n",
    "plt.figure()\n",
    "plt.imshow(x0,cmap='gray')\n",
    "plt.title('Label = {}'.format(y0))\n",
    "plt.colorbar()"
   ]
  },
  {
   "cell_type": "markdown",
   "metadata": {},
   "source": [
    "You can see that the input data comprises arrays of (8,8) -> 64 elements, containing integer values between 0 and 16, which represent the shades of grey shown in the image. Our X array thus contains 64 predictor values, compared to the 2 predictors that we looked at in the toy example.\n",
    "\n",
    "In a real-world application, to correctly evaluate the performance of our model, we would want to split our data into a training and test set. Here, we will just fit the model to all of our data to see how the method works, but keep in mind that if we wanted to evaluate the performance of our model, we should keep part of the data separate for this purpose.\n",
    "\n",
    "We'll apply the model as before:"
   ]
  },
  {
   "cell_type": "code",
   "execution_count": 20,
   "metadata": {},
   "outputs": [
    {
     "name": "stderr",
     "output_type": "stream",
     "text": [
      "/Users/closes/miniconda3/envs/py38/lib/python3.8/site-packages/sklearn/linear_model/_logistic.py:762: ConvergenceWarning: lbfgs failed to converge (status=1):\n",
      "STOP: TOTAL NO. of ITERATIONS REACHED LIMIT.\n",
      "\n",
      "Increase the number of iterations (max_iter) or scale the data as shown in:\n",
      "    https://scikit-learn.org/stable/modules/preprocessing.html\n",
      "Please also refer to the documentation for alternative solver options:\n",
      "    https://scikit-learn.org/stable/modules/linear_model.html#logistic-regression\n",
      "  n_iter_i = _check_optimize_result(\n"
     ]
    },
    {
     "data": {
      "text/plain": [
       "LogisticRegression()"
      ]
     },
     "execution_count": 20,
     "metadata": {},
     "output_type": "execute_result"
    }
   ],
   "source": [
    "# set up the model:\n",
    "model = LogisticRegression()\n",
    "# and fit the model to our data\n",
    "model.fit(digits.data,digits.target)"
   ]
  },
  {
   "cell_type": "markdown",
   "metadata": {},
   "source": [
    "And we can get the expected classes the same way as before:"
   ]
  },
  {
   "cell_type": "code",
   "execution_count": 21,
   "metadata": {},
   "outputs": [],
   "source": [
    "# the probability that each point belongs to each class:\n",
    "p_pred = model.predict_proba(digits.data)\n",
    "# the predicted value of y (=> the predicted output class):\n",
    "y_pred = model.predict(digits.data)\n",
    "# the accuracy of the model (a measure of how many points are \n",
    "# assigned to the wrong output class):\n",
    "score_ = model.score(digits.data, digits.target)"
   ]
  },
  {
   "cell_type": "markdown",
   "metadata": {},
   "source": [
    "If we look at the predicted probability array, we will see that we have one value for each class, so 10 values for each input data array:"
   ]
  },
  {
   "cell_type": "code",
   "execution_count": 26,
   "metadata": {},
   "outputs": [
    {
     "name": "stdout",
     "output_type": "stream",
     "text": [
      "The shape of the probability array is: (1797, 10)\n",
      "Probability of the first image being in each of the 10 classes:\n",
      "Class 0, P(0)=1.0000\n",
      "Class 1, P(1)=0.0000\n",
      "Class 2, P(2)=0.0000\n",
      "Class 3, P(3)=0.0000\n",
      "Class 4, P(4)=0.0000\n",
      "Class 5, P(5)=0.0000\n",
      "Class 6, P(6)=0.0000\n",
      "Class 7, P(7)=0.0000\n",
      "Class 8, P(8)=0.0000\n",
      "Class 9, P(9)=0.0000\n"
     ]
    }
   ],
   "source": [
    "print('The shape of the probability array is: {}'.format(p_pred.shape))\n",
    "print('Probability of the first image being in each of the 10 classes:')\n",
    "for i in range(10):\n",
    "    print('Class {}, P({})={:6.4f}'.format(i,i,p_pred[0,i]))"
   ]
  },
  {
   "cell_type": "markdown",
   "metadata": {},
   "source": [
    "If we look at the accuracy of the model, we see that it makes no errors: all images used in fitting the model have been correctly classified:"
   ]
  },
  {
   "cell_type": "code",
   "execution_count": 28,
   "metadata": {},
   "outputs": [
    {
     "name": "stdout",
     "output_type": "stream",
     "text": [
      "Model accuracy: 1.0\n"
     ]
    }
   ],
   "source": [
    "print('Model accuracy: {}'.format(score_))"
   ]
  },
  {
   "cell_type": "markdown",
   "metadata": {},
   "source": [
    "We will get a better idea of the model's ability to accurately classify new data if we split the data into a test and training set. Let's try this:"
   ]
  },
  {
   "cell_type": "code",
   "execution_count": 29,
   "metadata": {},
   "outputs": [],
   "source": [
    "from sklearn.model_selection import train_test_split\n",
    "# we will set aside 25% of the data to test the model,\n",
    "# and will fit the model to 75% of the data.\n",
    "# train_test_split will divide the data up for us:\n",
    "x_train, x_test, y_train, y_test = train_test_split(digits.data, \n",
    "                                    digits.target, test_size=0.25)"
   ]
  },
  {
   "cell_type": "markdown",
   "metadata": {},
   "source": [
    "Let's fit the model again, using the training data only:"
   ]
  },
  {
   "cell_type": "code",
   "execution_count": 30,
   "metadata": {},
   "outputs": [
    {
     "name": "stderr",
     "output_type": "stream",
     "text": [
      "/Users/closes/miniconda3/envs/py38/lib/python3.8/site-packages/sklearn/linear_model/_logistic.py:762: ConvergenceWarning: lbfgs failed to converge (status=1):\n",
      "STOP: TOTAL NO. of ITERATIONS REACHED LIMIT.\n",
      "\n",
      "Increase the number of iterations (max_iter) or scale the data as shown in:\n",
      "    https://scikit-learn.org/stable/modules/preprocessing.html\n",
      "Please also refer to the documentation for alternative solver options:\n",
      "    https://scikit-learn.org/stable/modules/linear_model.html#logistic-regression\n",
      "  n_iter_i = _check_optimize_result(\n"
     ]
    },
    {
     "data": {
      "text/plain": [
       "LogisticRegression()"
      ]
     },
     "execution_count": 30,
     "metadata": {},
     "output_type": "execute_result"
    }
   ],
   "source": [
    "# set up the model:\n",
    "model = LogisticRegression()\n",
    "# and fit the model to our data\n",
    "model.fit(x_train,y_train)"
   ]
  },
  {
   "cell_type": "markdown",
   "metadata": {},
   "source": [
    "If we compare the model accuracy on the test vs the training data, we will see that the model makes some errors when presented with data that was not used for the fitting:"
   ]
  },
  {
   "cell_type": "code",
   "execution_count": 31,
   "metadata": {},
   "outputs": [
    {
     "name": "stdout",
     "output_type": "stream",
     "text": [
      "Accuracy evaluated using training data: 1.0\n",
      "Accuracy evaluated using training data: 0.96\n"
     ]
    }
   ],
   "source": [
    "print('Accuracy evaluated using training data: {}'.format(model.score(x_train,y_train)))\n",
    "print('Accuracy evaluated using training data: {}'.format(model.score(x_test,y_test)))"
   ]
  },
  {
   "cell_type": "markdown",
   "metadata": {},
   "source": [
    "We can look at an example where the model mis-classifies the test data:"
   ]
  },
  {
   "cell_type": "code",
   "execution_count": 32,
   "metadata": {},
   "outputs": [
    {
     "data": {
      "image/png": "[encoded data removed]",
      "text/plain": [
       "<Figure size 432x288 with 2 Axes>"
      ]
     },
     "metadata": {
      "needs_background": "light"
     },
     "output_type": "display_data"
    }
   ],
   "source": [
    "# get the model predictions for the test data\n",
    "y_pred = model.predict(x_test)\n",
    "# find points where the prediction is wrong\n",
    "iwrong = np.where(y_pred != y_test)[0]\n",
    "# display the image for the first point that is wrongly classified:\n",
    "plt.figure()\n",
    "idata = np.reshape(x_test[iwrong[0]],(8,8))\n",
    "plt.imshow(idata,cmap='gray')\n",
    "plt.title('Assigned class = {}, true class = {}'.format(y_pred[iwrong[0]],y_test[iwrong[0]]))\n",
    "plt.colorbar();"
   ]
  },
  {
   "cell_type": "markdown",
   "metadata": {},
   "source": [
    "Finally, we can see what the probability for each class was for this example:"
   ]
  },
  {
   "cell_type": "code",
   "execution_count": 33,
   "metadata": {},
   "outputs": [
    {
     "name": "stdout",
     "output_type": "stream",
     "text": [
      "Probability for each class:\n",
      "Class: 0, probability: 0.000\n",
      "Class: 1, probability: 0.998\n",
      "Class: 2, probability: 0.000\n",
      "Class: 3, probability: 0.000\n",
      "Class: 4, probability: 0.000\n",
      "Class: 5, probability: 0.000\n",
      "Class: 6, probability: 0.000\n",
      "Class: 7, probability: 0.000\n",
      "Class: 8, probability: 0.000\n",
      "Class: 9, probability: 0.002\n"
     ]
    }
   ],
   "source": [
    "# and print out the associated probabilities\n",
    "proba = model.predict_proba(x_test[iwrong[0]][None,:])[0]\n",
    "print('Probability for each class:')\n",
    "for i,p in enumerate(proba):\n",
    "    print('Class: {}, probability: {:5.3f}'.format(i,p))"
   ]
  },
  {
   "cell_type": "code",
   "execution_count": null,
   "metadata": {},
   "outputs": [],
   "source": []
  }
 ],
 "metadata": {
  "kernelspec": {
   "display_name": "Python 3",
   "language": "python",
   "name": "python3"
  },
  "language_info": {
   "codemirror_mode": {
    "name": "ipython",
    "version": 3
   },
   "file_extension": ".py",
   "mimetype": "text/x-python",
   "name": "python",
   "nbconvert_exporter": "python",
   "pygments_lexer": "ipython3",
   "version": "3.8.2"
  }
 },
 "nbformat": 4,
 "nbformat_minor": 4
}
